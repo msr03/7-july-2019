{
 "cells": [
  {
   "cell_type": "markdown",
   "metadata": {},
   "source": [
    "# Argument, keyword arguments"
   ]
  },
  {
   "cell_type": "code",
   "execution_count": 1,
   "metadata": {},
   "outputs": [],
   "source": [
    "def car(model, year):\n",
    "    print(model,year)"
   ]
  },
  {
   "cell_type": "code",
   "execution_count": 2,
   "metadata": {},
   "outputs": [
    {
     "name": "stdout",
     "output_type": "stream",
     "text": [
      "corolla 2019\n"
     ]
    }
   ],
   "source": [
    "car('corolla',2019)"
   ]
  },
  {
   "cell_type": "code",
   "execution_count": 4,
   "metadata": {},
   "outputs": [
    {
     "name": "stdout",
     "output_type": "stream",
     "text": [
      "2019 toyota\n"
     ]
    }
   ],
   "source": [
    "car(2019,'toyota')"
   ]
  },
  {
   "cell_type": "code",
   "execution_count": 5,
   "metadata": {},
   "outputs": [
    {
     "name": "stdout",
     "output_type": "stream",
     "text": [
      "Honda 2019\n"
     ]
    }
   ],
   "source": [
    "car(year=2019,model='Honda')"
   ]
  },
  {
   "cell_type": "code",
   "execution_count": 3,
   "metadata": {},
   "outputs": [],
   "source": [
    "def name(fname,lname):\n",
    "    print(f'first name: {fname}')\n",
    "    print(f'last name: {lname}')"
   ]
  },
  {
   "cell_type": "code",
   "execution_count": 4,
   "metadata": {},
   "outputs": [
    {
     "name": "stdout",
     "output_type": "stream",
     "text": [
      "first name: Saad\n",
      "last name: Muhammad\n"
     ]
    }
   ],
   "source": [
    "name('Saad','Muhammad')"
   ]
  },
  {
   "cell_type": "code",
   "execution_count": 5,
   "metadata": {},
   "outputs": [
    {
     "name": "stdout",
     "output_type": "stream",
     "text": [
      "first name: Muhammad\n",
      "last name: saad\n"
     ]
    }
   ],
   "source": [
    "name('Muhammad','saad')"
   ]
  },
  {
   "cell_type": "code",
   "execution_count": 6,
   "metadata": {},
   "outputs": [
    {
     "name": "stdout",
     "output_type": "stream",
     "text": [
      "first name: Muhammad\n",
      "last name: Saad\n"
     ]
    }
   ],
   "source": [
    "name(lname='Saad',fname='Muhammad')"
   ]
  },
  {
   "cell_type": "code",
   "execution_count": 7,
   "metadata": {},
   "outputs": [],
   "source": [
    "def againname(fname,lname):\n",
    "    print(f'First name {fname}')\n",
    "    print(f'Last name {lname}')"
   ]
  },
  {
   "cell_type": "code",
   "execution_count": 9,
   "metadata": {},
   "outputs": [
    {
     "name": "stdout",
     "output_type": "stream",
     "text": [
      "First name Muhammad\n",
      "Last name Saad\n"
     ]
    }
   ],
   "source": [
    "againname(lname='Saad',fname='Muhammad')"
   ]
  },
  {
   "cell_type": "code",
   "execution_count": 12,
   "metadata": {},
   "outputs": [],
   "source": [
    "def againname(fname,mname,lname):\n",
    "    print(f'First name: {fname}')\n",
    "    print(f'Middle name: {mname}')\n",
    "    print(f'Last name: {lname}')"
   ]
  },
  {
   "cell_type": "code",
   "execution_count": 13,
   "metadata": {},
   "outputs": [
    {
     "name": "stdout",
     "output_type": "stream",
     "text": [
      "First name: Saad\n",
      "Middle name: ur\n",
      "Last name: Rehman\n"
     ]
    }
   ],
   "source": [
    "againname(mname='ur',lname='Rehman',fname='Saad')"
   ]
  },
  {
   "cell_type": "code",
   "execution_count": 14,
   "metadata": {},
   "outputs": [
    {
     "ename": "SyntaxError",
     "evalue": "positional argument follows keyword argument (<ipython-input-14-c663558e6c11>, line 1)",
     "output_type": "error",
     "traceback": [
      "\u001b[1;36m  File \u001b[1;32m\"<ipython-input-14-c663558e6c11>\"\u001b[1;36m, line \u001b[1;32m1\u001b[0m\n\u001b[1;33m    againname(mname='ur',fname='Saad','Rehman')\u001b[0m\n\u001b[1;37m                                     ^\u001b[0m\n\u001b[1;31mSyntaxError\u001b[0m\u001b[1;31m:\u001b[0m positional argument follows keyword argument\n"
     ]
    }
   ],
   "source": [
    "againname(mname='ur',fname='Saad','Rehman')"
   ]
  },
  {
   "cell_type": "code",
   "execution_count": 16,
   "metadata": {},
   "outputs": [
    {
     "name": "stdout",
     "output_type": "stream",
     "text": [
      "First name: Saad\n",
      "Middle name: ur\n",
      "Last name: Rehman\n"
     ]
    }
   ],
   "source": [
    "againname(mname='ur',lname='Rehman',fname='Saad')"
   ]
  },
  {
   "cell_type": "markdown",
   "metadata": {},
   "source": [
    "# Number of Arguments"
   ]
  },
  {
   "cell_type": "code",
   "execution_count": 17,
   "metadata": {},
   "outputs": [],
   "source": [
    "def pizza(size, flavour,*toppings):\n",
    "    print(size, flavour)\n",
    "    print(toppings)"
   ]
  },
  {
   "cell_type": "code",
   "execution_count": 18,
   "metadata": {},
   "outputs": [
    {
     "name": "stdout",
     "output_type": "stream",
     "text": [
      "large Fajita\n",
      "('extra cheez', 'olives', 'Jalapeno')\n"
     ]
    }
   ],
   "source": [
    "pizza('large','Fajita','extra cheez','olives','Jalapeno')"
   ]
  },
  {
   "cell_type": "code",
   "execution_count": 32,
   "metadata": {},
   "outputs": [],
   "source": [
    "def pizza(size, flavour,*toppings):  # * use for more than one values and in tupple form\n",
    "    print(f' Size: {size}\\n',f'Flavour: {flavour}\\n',f'Toppings: {toppings}')"
   ]
  },
  {
   "cell_type": "code",
   "execution_count": 31,
   "metadata": {},
   "outputs": [
    {
     "name": "stdout",
     "output_type": "stream",
     "text": [
      " Size: large\n",
      " Flavour: Fajita\n",
      " Toppings: ('extra cheez', 'olives', 'Jalapeno')\n"
     ]
    }
   ],
   "source": [
    "pizza('large','Fajita','extra cheez','olives','Jalapeno')"
   ]
  },
  {
   "cell_type": "code",
   "execution_count": 36,
   "metadata": {},
   "outputs": [],
   "source": [
    "def car(make,model,**specs): # ** uses for keyword argument result in dictionary form\n",
    "    print(make,model)\n",
    "    print(specs)"
   ]
  },
  {
   "cell_type": "code",
   "execution_count": 37,
   "metadata": {},
   "outputs": [
    {
     "ename": "TypeError",
     "evalue": "car() takes 2 positional arguments but 3 were given",
     "output_type": "error",
     "traceback": [
      "\u001b[1;31m---------------------------------------------------------------------------\u001b[0m",
      "\u001b[1;31mTypeError\u001b[0m                                 Traceback (most recent call last)",
      "\u001b[1;32m<ipython-input-37-76e6a3dafcf3>\u001b[0m in \u001b[0;36m<module>\u001b[1;34m\u001b[0m\n\u001b[1;32m----> 1\u001b[1;33m \u001b[0mcar\u001b[0m\u001b[1;33m(\u001b[0m\u001b[1;34m'Toyota'\u001b[0m\u001b[1;33m,\u001b[0m\u001b[1;34m'Prius'\u001b[0m\u001b[1;33m,\u001b[0m\u001b[1;34m\"Automatic\"\u001b[0m \u001b[1;33m)\u001b[0m \u001b[1;31m# dictionary form and in keyword argument\u001b[0m\u001b[1;33m\u001b[0m\u001b[1;33m\u001b[0m\u001b[0m\n\u001b[0m",
      "\u001b[1;31mTypeError\u001b[0m: car() takes 2 positional arguments but 3 were given"
     ]
    }
   ],
   "source": [
    "car('Toyota','Prius',\"Automatic\" ) # dictionary form and in keyword argument"
   ]
  },
  {
   "cell_type": "code",
   "execution_count": 38,
   "metadata": {},
   "outputs": [
    {
     "name": "stdout",
     "output_type": "stream",
     "text": [
      "Toyota Prius\n",
      "{'Transmission': 'Automatic'}\n"
     ]
    }
   ],
   "source": [
    "car('Toyota','Prius',Transmission='Automatic')"
   ]
  },
  {
   "cell_type": "code",
   "execution_count": 39,
   "metadata": {},
   "outputs": [
    {
     "name": "stdout",
     "output_type": "stream",
     "text": [
      "Toyota Prius\n",
      "{'Transmission': 'Automatic', 'color': 'black'}\n"
     ]
    }
   ],
   "source": [
    "car('Toyota','Prius',Transmission='Automatic',color=\"black\")"
   ]
  },
  {
   "cell_type": "code",
   "execution_count": 41,
   "metadata": {},
   "outputs": [
    {
     "name": "stdout",
     "output_type": "stream",
     "text": [
      "Toyota Prius\n",
      "{'Transmission': 'Automatic', 'color': 'Black', 'rimtype': 'Alloy rims'}\n"
     ]
    }
   ],
   "source": [
    "car('Toyota','Prius',Transmission='Automatic',color='Black',rimtype='Alloy rims')"
   ]
  },
  {
   "cell_type": "markdown",
   "metadata": {},
   "source": [
    "# Functions as a variable"
   ]
  },
  {
   "cell_type": "code",
   "execution_count": 52,
   "metadata": {},
   "outputs": [],
   "source": [
    "def add(a,b):\n",
    "    c=a+b\n",
    "    #return c"
   ]
  },
  {
   "cell_type": "code",
   "execution_count": 44,
   "metadata": {},
   "outputs": [],
   "source": [
    "def sub(a,b):\n",
    "    c=a-b\n",
    "    return c"
   ]
  },
  {
   "cell_type": "code",
   "execution_count": 48,
   "metadata": {},
   "outputs": [
    {
     "name": "stdout",
     "output_type": "stream",
     "text": [
      "7\n"
     ]
    }
   ],
   "source": [
    "result =add(2,2)+sub(6,3)\n",
    "print(result)"
   ]
  },
  {
   "cell_type": "code",
   "execution_count": 53,
   "metadata": {},
   "outputs": [
    {
     "name": "stdout",
     "output_type": "stream",
     "text": [
      "None\n"
     ]
    }
   ],
   "source": [
    "result =add('Muhammad','Saad')#+sub('Adeel','Javed')\n",
    "print(result)"
   ]
  },
  {
   "cell_type": "markdown",
   "metadata": {},
   "source": [
    "# while loops"
   ]
  },
  {
   "cell_type": "code",
   "execution_count": 54,
   "metadata": {},
   "outputs": [
    {
     "name": "stdout",
     "output_type": "stream",
     "text": [
      "0\n",
      "1\n",
      "2\n",
      "3\n",
      "4\n",
      "5\n",
      "6\n",
      "7\n",
      "8\n",
      "9\n"
     ]
    }
   ],
   "source": [
    "for a in range(10):\n",
    "    print(a)"
   ]
  },
  {
   "cell_type": "code",
   "execution_count": 10,
   "metadata": {},
   "outputs": [
    {
     "name": "stdout",
     "output_type": "stream",
     "text": [
      "0\n",
      "1\n",
      "2\n",
      "3\n",
      "4\n",
      "5\n",
      "6\n",
      "7\n",
      "8\n",
      "9\n"
     ]
    }
   ],
   "source": [
    "a=0\n",
    "while a<10:\n",
    "    print(a)\n",
    "    a=a+1"
   ]
  },
  {
   "cell_type": "code",
   "execution_count": 9,
   "metadata": {},
   "outputs": [
    {
     "name": "stdout",
     "output_type": "stream",
     "text": [
      "10\n",
      "8\n",
      "6\n",
      "4\n",
      "2\n"
     ]
    }
   ],
   "source": [
    "for a in range(10,0,-2):\n",
    "    print(a)"
   ]
  },
  {
   "cell_type": "code",
   "execution_count": 10,
   "metadata": {},
   "outputs": [
    {
     "name": "stdout",
     "output_type": "stream",
     "text": [
      "Enter a topping cheez\n",
      "Enter a topping onion\n",
      "Enter a topping tomatos\n",
      "Enter a topping jalapeno\n",
      "Enter a topping olives\n",
      "['cheez', 'onion', 'tomatos', 'jalapeno', 'olives']\n"
     ]
    }
   ],
   "source": [
    "topping=[]\n",
    "for a in range(5):\n",
    "    toppings=input('Enter a topping ')\n",
    "    topping.append(toppings)\n",
    "\n",
    "print(topping)"
   ]
  },
  {
   "cell_type": "code",
   "execution_count": 14,
   "metadata": {},
   "outputs": [
    {
     "name": "stdout",
     "output_type": "stream",
     "text": [
      "Enter topping asf\n",
      "Enter topping asdf\n",
      "Enter topping af\n",
      "Enter topping ef\n",
      "Enter topping aef\n",
      "Enter topping aef\n",
      "Enter topping q\n",
      "['asf', 'asdf', 'af', 'ef', 'aef', 'aef', 'q']\n"
     ]
    }
   ],
   "source": [
    "toppings=[]\n",
    "flag=True\n",
    "\n",
    "while flag:\n",
    "    topping=input('Enter topping ')\n",
    "    toppings.append(topping)\n",
    "    if topping=='q':\n",
    "        flag=False\n",
    "        \n",
    "print(toppings)"
   ]
  },
  {
   "cell_type": "code",
   "execution_count": 20,
   "metadata": {},
   "outputs": [
    {
     "name": "stdout",
     "output_type": "stream",
     "text": [
      "Enter a Topping: jalapenos\n",
      "Enter a Topping: olives\n",
      "Enter a Topping: onion\n",
      "Enter a Topping: tomatos\n",
      "Enter a Topping: cheez\n",
      "Enter a Topping: q\n",
      "['jalapenos', 'olives', 'onion', 'tomatos', 'cheez', 'q']\n"
     ]
    }
   ],
   "source": [
    "toppings=[]\n",
    "flag=True\n",
    "while flag:\n",
    "    topping=input('Enter a Topping: ')\n",
    "    toppings.append(topping)\n",
    "    if topping=='q':\n",
    "        flag=False\n",
    "print(toppings)"
   ]
  },
  {
   "cell_type": "code",
   "execution_count": 22,
   "metadata": {},
   "outputs": [
    {
     "name": "stdout",
     "output_type": "stream",
     "text": [
      "Enter a Topping: olives]\n",
      "Enter a Topping: gc\n",
      "Enter a Topping: ufu\n",
      "Enter a Topping: c\n",
      "Enter a Topping: cy\n",
      "Enter a Topping: q\n",
      "['olives]', 'gc', 'ufu', 'c', 'cy']\n"
     ]
    }
   ],
   "source": [
    "toppings=[]    # for  not showing q in the list\n",
    "flag=True\n",
    "while flag:\n",
    "    topping=input('Enter a Topping: ')\n",
    "    if topping=='q':\n",
    "        flag=False\n",
    "    else:\n",
    "        toppings.append(topping)\n",
    "print(toppings)"
   ]
  },
  {
   "cell_type": "code",
   "execution_count": null,
   "metadata": {},
   "outputs": [
    {
     "name": "stdout",
     "output_type": "stream",
     "text": [
      "Pizza Order\n",
      "\n",
      "\n",
      "Enter a size: sfg\n",
      "sfg not available\n",
      "Enter the size again\n",
      "Enter a size: Large\n"
     ]
    }
   ],
   "source": [
    "availableflavours=['Fajita','BBQ','Tikka','Mexican']\n",
    "availablesize=['Large','Medium','Small']\n",
    "availabletoppings=['Olives','Cheez',\"Hurbs\"]\n",
    "print('Pizza Order')\n",
    "print()\n",
    "print()\n",
    "flag=True\n",
    "while flag:\n",
    "    size=input('Enter a size: ')\n",
    "    if size not in availablesize:\n",
    "        print(f'{size} not available')\n",
    "        print(\"Enter the size again\")\n",
    "        size=input('Enter a size: ')\n",
    "    \n",
    "        "
   ]
  },
  {
   "cell_type": "code",
   "execution_count": null,
   "metadata": {},
   "outputs": [],
   "source": []
  },
  {
   "cell_type": "code",
   "execution_count": null,
   "metadata": {},
   "outputs": [],
   "source": []
  }
 ],
 "metadata": {
  "kernelspec": {
   "display_name": "Python 3",
   "language": "python",
   "name": "python3"
  },
  "language_info": {
   "codemirror_mode": {
    "name": "ipython",
    "version": 3
   },
   "file_extension": ".py",
   "mimetype": "text/x-python",
   "name": "python",
   "nbconvert_exporter": "python",
   "pygments_lexer": "ipython3",
   "version": "3.7.3"
  }
 },
 "nbformat": 4,
 "nbformat_minor": 2
}
